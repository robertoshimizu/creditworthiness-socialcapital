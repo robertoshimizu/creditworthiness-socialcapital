{
 "cells": [
  {
   "cell_type": "code",
   "execution_count": 1,
   "metadata": {},
   "outputs": [],
   "source": [
    "import numpy as np\n",
    "import pandas as pd\n",
    "import os\n",
    "import regex as re\n",
    "import operator\n",
    "import matplotlib.pyplot as plt\n",
    "from tabulate import tabulate, SEPARATING_LINE"
   ]
  },
  {
   "cell_type": "code",
   "execution_count": 2,
   "metadata": {},
   "outputs": [
    {
     "name": "stdout",
     "output_type": "stream",
     "text": [
      "/Users/rober/OneDrive/Education/Social_Network_Analysis/microfinance_indian_villages/datav4.0/Data\n"
     ]
    }
   ],
   "source": [
    "# If you are using .venv\n",
    "cwd = os.getcwd()\n",
    "cwd = '/Users/rober/OneDrive/Education/Social_Network_Analysis/microfinance_indian_villages/datav4.0/Data'\n",
    "print(cwd)"
   ]
  },
  {
   "cell_type": "code",
   "execution_count": 3,
   "metadata": {},
   "outputs": [
    {
     "name": "stdout",
     "output_type": "stream",
     "text": [
      "/home/jovyan/work/Social_Network_Analysis/microfinance_indian_villages/datav4.0/Data\n"
     ]
    }
   ],
   "source": [
    "# if you are using Docker\n",
    "cwd = os.getcwd()\n",
    "cwd = '/home/jovyan/work/Social_Network_Analysis/microfinance_indian_villages/datav4.0/Data'\n",
    "print(cwd)"
   ]
  },
  {
   "cell_type": "code",
   "execution_count": 4,
   "metadata": {},
   "outputs": [],
   "source": [
    "path_demo = cwd + '/2. Demographics and Outcomes'\n",
    "path_key = cwd + '/1. Network Data/Adjacency Matrix Keys'\n",
    "path_adj = cwd + '/1. Network Data/Adjacency Matrices'\n",
    "file1 =  'household_characteristics.dta'\n",
    "file2 = 'individual_characteristics.dta'"
   ]
  },
  {
   "cell_type": "code",
   "execution_count": 5,
   "metadata": {},
   "outputs": [
    {
     "data": {
      "text/plain": [
       "'/home/jovyan/work/Social_Network_Analysis/microfinance_indian_villages/datav4.0/Data/2. Demographics and Outcomes'"
      ]
     },
     "execution_count": 5,
     "metadata": {},
     "output_type": "execute_result"
    }
   ],
   "source": [
    "path_demo"
   ]
  },
  {
   "cell_type": "code",
   "execution_count": 6,
   "metadata": {},
   "outputs": [],
   "source": [
    "os.chdir(path_demo)"
   ]
  },
  {
   "cell_type": "code",
   "execution_count": 7,
   "metadata": {},
   "outputs": [
    {
     "data": {
      "text/plain": [
       "['household_characteristics.dta', 'individual_characteristics.dta']"
      ]
     },
     "execution_count": 7,
     "metadata": {},
     "output_type": "execute_result"
    }
   ],
   "source": [
    "os.listdir(path='.')"
   ]
  },
  {
   "cell_type": "markdown",
   "metadata": {},
   "source": [
    "# Background"
   ]
  },
  {
   "cell_type": "markdown",
   "metadata": {},
   "source": [
    "This project contains data from a survey of social networks in 75 villages in rural southern Karnataka, a state in India. A census of households was conducted, and a subset of individuals was asked detailed questions about the\n",
    "relationships they had with others in the village. This information was used to create network graphs for each village, included here. Basic information for all households and all surveyed individuals is also provided.\n",
    "\n",
    "https://economics.mit.edu/faculty/eduflo/social\n",
    "\n",
    "\n",
    "Previously, these 75 villages had been identified by Bharatha Swamukti Samsthe (a microfinance institution) as places where it planned to start operations. Six months after the survey, BSS began expanding to these villages and in two years eventually spread to 43 of them. Information about which households participated in BSS's microfinance program was matched to the household census."
   ]
  },
  {
   "cell_type": "markdown",
   "metadata": {},
   "source": [
    "## Individual Characteristics"
   ]
  },
  {
   "cell_type": "code",
   "execution_count": 8,
   "metadata": {},
   "outputs": [],
   "source": [
    "# read file of individuals rather than households\n",
    "df2 = pd.io.stata.read_stata(file2)"
   ]
  },
  {
   "cell_type": "code",
   "execution_count": 9,
   "metadata": {},
   "outputs": [
    {
     "name": "stdout",
     "output_type": "stream",
     "text": [
      "<class 'pandas.core.frame.DataFrame'>\n",
      "Int64Index: 16984 entries, 0 to 16983\n",
      "Data columns (total 48 columns):\n",
      " #   Column             Non-Null Count  Dtype   \n",
      "---  ------             --------------  -----   \n",
      " 0   village            16984 non-null  int8    \n",
      " 1   adjmatrix_key      16984 non-null  int16   \n",
      " 2   pid                16984 non-null  int32   \n",
      " 3   hhid               16984 non-null  int32   \n",
      " 4   resp_id            16984 non-null  int8    \n",
      " 5   resp_gend          16984 non-null  int8    \n",
      " 6   resp_status        16984 non-null  category\n",
      " 7   age                16984 non-null  int8    \n",
      " 8   religion           16983 non-null  category\n",
      " 9   caste              16951 non-null  category\n",
      " 10  subcaste           16984 non-null  object  \n",
      " 11  mothertongue       16984 non-null  object  \n",
      " 12  speakother         16984 non-null  category\n",
      " 13  kannada            16984 non-null  category\n",
      " 14  tamil              16984 non-null  category\n",
      " 15  telugu             16984 non-null  category\n",
      " 16  hindi              16984 non-null  category\n",
      " 17  urdu               16984 non-null  category\n",
      " 18  english            16984 non-null  category\n",
      " 19  otherlang          16984 non-null  object  \n",
      " 20  educ               16984 non-null  category\n",
      " 21  villagenative      16984 non-null  category\n",
      " 22  native_name        16984 non-null  object  \n",
      " 23  native_type        16984 non-null  object  \n",
      " 24  native_taluk       16984 non-null  object  \n",
      " 25  native_district    16984 non-null  object  \n",
      " 26  res_time_yrs       7432 non-null   category\n",
      " 27  res_time_mths      3181 non-null   float64 \n",
      " 28  movereason         16984 non-null  object  \n",
      " 29  movecontact        581 non-null    category\n",
      " 30  movecontact_res    317 non-null    category\n",
      " 31  movecontact_hhid   249 non-null    float64 \n",
      " 32  movecontact_pid    249 non-null    float64 \n",
      " 33  movecontact_name   16984 non-null  object  \n",
      " 34  workflag           16983 non-null  category\n",
      " 35  work_freq          10691 non-null  float64 \n",
      " 36  work_freq_type     16984 non-null  object  \n",
      " 37  occupation         16984 non-null  object  \n",
      " 38  privategovt        16984 non-null  object  \n",
      " 39  work_outside       10695 non-null  category\n",
      " 40  work_outside_freq  3623 non-null   category\n",
      " 41  shgparticipate     16983 non-null  category\n",
      " 42  shg_no             3572 non-null   category\n",
      " 43  savings            16984 non-null  category\n",
      " 44  savings_no         6681 non-null   float64 \n",
      " 45  electioncard       16983 non-null  category\n",
      " 46  rationcard         16983 non-null  category\n",
      " 47  rationcard_colour  16984 non-null  object  \n",
      "dtypes: category(23), float64(5), int16(1), int32(2), int8(4), object(13)\n",
      "memory usage: 3.1+ MB\n"
     ]
    }
   ],
   "source": [
    "df2.info()"
   ]
  },
  {
   "cell_type": "markdown",
   "metadata": {},
   "source": [
    "## Subsetting only Village == 1"
   ]
  },
  {
   "cell_type": "code",
   "execution_count": 10,
   "metadata": {},
   "outputs": [],
   "source": [
    "is_vill1 = df2['village'] == 1"
   ]
  },
  {
   "cell_type": "code",
   "execution_count": 11,
   "metadata": {},
   "outputs": [],
   "source": [
    "subset_vilno_1 = df2[is_vill1]"
   ]
  },
  {
   "cell_type": "code",
   "execution_count": 12,
   "metadata": {},
   "outputs": [
    {
     "data": {
      "text/html": [
       "<div>\n",
       "<style scoped>\n",
       "    .dataframe tbody tr th:only-of-type {\n",
       "        vertical-align: middle;\n",
       "    }\n",
       "\n",
       "    .dataframe tbody tr th {\n",
       "        vertical-align: top;\n",
       "    }\n",
       "\n",
       "    .dataframe thead th {\n",
       "        text-align: right;\n",
       "    }\n",
       "</style>\n",
       "<table border=\"1\" class=\"dataframe\">\n",
       "  <thead>\n",
       "    <tr style=\"text-align: right;\">\n",
       "      <th></th>\n",
       "      <th>village</th>\n",
       "      <th>adjmatrix_key</th>\n",
       "      <th>pid</th>\n",
       "      <th>hhid</th>\n",
       "      <th>resp_id</th>\n",
       "      <th>resp_gend</th>\n",
       "      <th>resp_status</th>\n",
       "      <th>age</th>\n",
       "      <th>religion</th>\n",
       "      <th>caste</th>\n",
       "      <th>...</th>\n",
       "      <th>privategovt</th>\n",
       "      <th>work_outside</th>\n",
       "      <th>work_outside_freq</th>\n",
       "      <th>shgparticipate</th>\n",
       "      <th>shg_no</th>\n",
       "      <th>savings</th>\n",
       "      <th>savings_no</th>\n",
       "      <th>electioncard</th>\n",
       "      <th>rationcard</th>\n",
       "      <th>rationcard_colour</th>\n",
       "    </tr>\n",
       "  </thead>\n",
       "  <tbody>\n",
       "    <tr>\n",
       "      <th>0</th>\n",
       "      <td>1</td>\n",
       "      <td>5</td>\n",
       "      <td>100201</td>\n",
       "      <td>1002</td>\n",
       "      <td>1</td>\n",
       "      <td>1</td>\n",
       "      <td>Head of Household</td>\n",
       "      <td>38</td>\n",
       "      <td>HINDUISM</td>\n",
       "      <td>OBC</td>\n",
       "      <td>...</td>\n",
       "      <td>PRIVATE BUSINESS</td>\n",
       "      <td>Yes</td>\n",
       "      <td>0.0</td>\n",
       "      <td>No</td>\n",
       "      <td>NaN</td>\n",
       "      <td>No</td>\n",
       "      <td>NaN</td>\n",
       "      <td>Yes</td>\n",
       "      <td>Yes</td>\n",
       "      <td>GREEN</td>\n",
       "    </tr>\n",
       "    <tr>\n",
       "      <th>1</th>\n",
       "      <td>1</td>\n",
       "      <td>6</td>\n",
       "      <td>100202</td>\n",
       "      <td>1002</td>\n",
       "      <td>2</td>\n",
       "      <td>2</td>\n",
       "      <td>Spouse of Head of Household</td>\n",
       "      <td>27</td>\n",
       "      <td>HINDUISM</td>\n",
       "      <td>OBC</td>\n",
       "      <td>...</td>\n",
       "      <td></td>\n",
       "      <td>NaN</td>\n",
       "      <td>NaN</td>\n",
       "      <td>No</td>\n",
       "      <td>NaN</td>\n",
       "      <td>No</td>\n",
       "      <td>NaN</td>\n",
       "      <td>Yes</td>\n",
       "      <td>Yes</td>\n",
       "      <td>GREEN</td>\n",
       "    </tr>\n",
       "    <tr>\n",
       "      <th>2</th>\n",
       "      <td>1</td>\n",
       "      <td>23</td>\n",
       "      <td>100601</td>\n",
       "      <td>1006</td>\n",
       "      <td>1</td>\n",
       "      <td>1</td>\n",
       "      <td>Head of Household</td>\n",
       "      <td>29</td>\n",
       "      <td>HINDUISM</td>\n",
       "      <td>OBC</td>\n",
       "      <td>...</td>\n",
       "      <td>OTHER LAND</td>\n",
       "      <td>No</td>\n",
       "      <td>NaN</td>\n",
       "      <td>No</td>\n",
       "      <td>NaN</td>\n",
       "      <td>No</td>\n",
       "      <td>NaN</td>\n",
       "      <td>Yes</td>\n",
       "      <td>Yes</td>\n",
       "      <td>GREEN</td>\n",
       "    </tr>\n",
       "    <tr>\n",
       "      <th>3</th>\n",
       "      <td>1</td>\n",
       "      <td>24</td>\n",
       "      <td>100602</td>\n",
       "      <td>1006</td>\n",
       "      <td>2</td>\n",
       "      <td>2</td>\n",
       "      <td>Spouse of Head of Household</td>\n",
       "      <td>24</td>\n",
       "      <td>HINDUISM</td>\n",
       "      <td>OBC</td>\n",
       "      <td>...</td>\n",
       "      <td>PRIVATE BUSINESS</td>\n",
       "      <td>No</td>\n",
       "      <td>NaN</td>\n",
       "      <td>Yes</td>\n",
       "      <td>1.0</td>\n",
       "      <td>Yes</td>\n",
       "      <td>1.0</td>\n",
       "      <td>Yes</td>\n",
       "      <td>No</td>\n",
       "      <td></td>\n",
       "    </tr>\n",
       "    <tr>\n",
       "      <th>4</th>\n",
       "      <td>1</td>\n",
       "      <td>27</td>\n",
       "      <td>100701</td>\n",
       "      <td>1007</td>\n",
       "      <td>1</td>\n",
       "      <td>1</td>\n",
       "      <td>Head of Household</td>\n",
       "      <td>58</td>\n",
       "      <td>HINDUISM</td>\n",
       "      <td>OBC</td>\n",
       "      <td>...</td>\n",
       "      <td>OTHER LAND</td>\n",
       "      <td>No</td>\n",
       "      <td>NaN</td>\n",
       "      <td>No</td>\n",
       "      <td>NaN</td>\n",
       "      <td>No</td>\n",
       "      <td>NaN</td>\n",
       "      <td>Yes</td>\n",
       "      <td>Yes</td>\n",
       "      <td>GREEN</td>\n",
       "    </tr>\n",
       "  </tbody>\n",
       "</table>\n",
       "<p>5 rows × 48 columns</p>\n",
       "</div>"
      ],
      "text/plain": [
       "   village  adjmatrix_key     pid  hhid  resp_id  resp_gend  \\\n",
       "0        1              5  100201  1002        1          1   \n",
       "1        1              6  100202  1002        2          2   \n",
       "2        1             23  100601  1006        1          1   \n",
       "3        1             24  100602  1006        2          2   \n",
       "4        1             27  100701  1007        1          1   \n",
       "\n",
       "                   resp_status  age  religion caste  ...       privategovt  \\\n",
       "0            Head of Household   38  HINDUISM   OBC  ...  PRIVATE BUSINESS   \n",
       "1  Spouse of Head of Household   27  HINDUISM   OBC  ...                     \n",
       "2            Head of Household   29  HINDUISM   OBC  ...        OTHER LAND   \n",
       "3  Spouse of Head of Household   24  HINDUISM   OBC  ...  PRIVATE BUSINESS   \n",
       "4            Head of Household   58  HINDUISM   OBC  ...        OTHER LAND   \n",
       "\n",
       "  work_outside work_outside_freq shgparticipate shg_no savings savings_no  \\\n",
       "0          Yes               0.0             No    NaN      No        NaN   \n",
       "1          NaN               NaN             No    NaN      No        NaN   \n",
       "2           No               NaN             No    NaN      No        NaN   \n",
       "3           No               NaN            Yes    1.0     Yes        1.0   \n",
       "4           No               NaN             No    NaN      No        NaN   \n",
       "\n",
       "  electioncard rationcard rationcard_colour  \n",
       "0          Yes        Yes             GREEN  \n",
       "1          Yes        Yes             GREEN  \n",
       "2          Yes        Yes             GREEN  \n",
       "3          Yes         No                    \n",
       "4          Yes        Yes             GREEN  \n",
       "\n",
       "[5 rows x 48 columns]"
      ]
     },
     "execution_count": 12,
     "metadata": {},
     "output_type": "execute_result"
    }
   ],
   "source": [
    "subset_vilno_1.head()"
   ]
  },
  {
   "cell_type": "code",
   "execution_count": 13,
   "metadata": {},
   "outputs": [
    {
     "data": {
      "text/plain": [
       "(203, 48)"
      ]
     },
     "execution_count": 13,
     "metadata": {},
     "output_type": "execute_result"
    }
   ],
   "source": [
    "subset_vilno_1.shape"
   ]
  },
  {
   "cell_type": "code",
   "execution_count": 14,
   "metadata": {},
   "outputs": [
    {
     "data": {
      "text/plain": [
       "Index(['village', 'adjmatrix_key', 'pid', 'hhid', 'resp_id', 'resp_gend',\n",
       "       'resp_status', 'age', 'religion', 'caste', 'subcaste', 'mothertongue',\n",
       "       'speakother', 'kannada', 'tamil', 'telugu', 'hindi', 'urdu', 'english',\n",
       "       'otherlang', 'educ', 'villagenative', 'native_name', 'native_type',\n",
       "       'native_taluk', 'native_district', 'res_time_yrs', 'res_time_mths',\n",
       "       'movereason', 'movecontact', 'movecontact_res', 'movecontact_hhid',\n",
       "       'movecontact_pid', 'movecontact_name', 'workflag', 'work_freq',\n",
       "       'work_freq_type', 'occupation', 'privategovt', 'work_outside',\n",
       "       'work_outside_freq', 'shgparticipate', 'shg_no', 'savings',\n",
       "       'savings_no', 'electioncard', 'rationcard', 'rationcard_colour'],\n",
       "      dtype='object')"
      ]
     },
     "execution_count": 14,
     "metadata": {},
     "output_type": "execute_result"
    }
   ],
   "source": [
    "subset_vilno_1.columns"
   ]
  },
  {
   "cell_type": "markdown",
   "metadata": {},
   "source": [
    "## Data"
   ]
  },
  {
   "cell_type": "markdown",
   "metadata": {},
   "source": [
    "The “Data” folder contains two subfolders: “Network Data” and “Demographics and Outcomes.” In the \"Network Data\" folder, there are adjacency matrices for each of the 75 villages surveyed. The 75 villages are numbered 1-77 (villages 13 and 22 are missing.) About half of households received detailed surveys in which individuals were asked to list the names of people with whom they shared a certain relationship. Households were randomly sampled and stratified by religion and geographic sub-region.\n",
    "\n",
    "\n",
    "For each variable, an individual matrix and a household matrix were constructed. A relationship between households exists if any household members indicated a relationship with members from the other household. These questions were asked in the individual survey.\n",
    "\n",
    "Individuals were asked who they:\n",
    "- borrow money from\n",
    "- give advice to\n",
    "- help with a decision\n",
    "- borrow kerosene or rice from\n",
    "- lend kerosene or rice to\n",
    "- lend money to\n",
    "- obtain medical advice from\n",
    "- engage socially with\n",
    "- are related to\n",
    "- go to temple with\n",
    "- invite to one's home\n",
    "- visit in another's home.\n",
    "\n",
    "We also include the ALL network which is a union and an AND network which is the intersection. This is done both at the individual and household levels."
   ]
  },
  {
   "cell_type": "markdown",
   "metadata": {},
   "source": [
    "### Let's pick one example: adj_templecompany_vilno_1.csv AND relate to key_vilno_1.csv"
   ]
  },
  {
   "cell_type": "markdown",
   "metadata": {},
   "source": [
    "For instance, using the file \"adj_templecompany_vilno_1.csv,\" we discover that the individual in the fifth row goes to the same temple as the individual in the eigth row. Using \"key_vilno_1.csv,\" we can determine that in the individual in the fifth row has an ID of 100201, and the individual in the eighth row has an ID of 100204. We can then look up demographic information about these individuals using the dataset in the \"Demographics and Outcomes\" folder by matching on the ID variable."
   ]
  },
  {
   "cell_type": "markdown",
   "metadata": {},
   "source": [
    "The **networks are undirected (each matrix is symmetric)**. Each row or column of a matrix represents one individual. The matrices lack row or column headers, but in the folder \"adjacency matrix keys\" there are files that link each row (or the equivalent column) to a particular individual or household"
   ]
  },
  {
   "cell_type": "code",
   "execution_count": 15,
   "metadata": {},
   "outputs": [
    {
     "data": {
      "text/plain": [
       "['key_HH_vilno_1.csv',\n",
       " 'key_HH_vilno_10.csv',\n",
       " 'key_HH_vilno_11.csv',\n",
       " 'key_HH_vilno_12.csv',\n",
       " 'key_HH_vilno_14.csv',\n",
       " 'key_HH_vilno_15.csv',\n",
       " 'key_HH_vilno_16.csv',\n",
       " 'key_HH_vilno_17.csv',\n",
       " 'key_HH_vilno_18.csv',\n",
       " 'key_HH_vilno_19.csv']"
      ]
     },
     "execution_count": 15,
     "metadata": {},
     "output_type": "execute_result"
    }
   ],
   "source": [
    "os.listdir(path=path_key)[:10]"
   ]
  },
  {
   "cell_type": "markdown",
   "metadata": {},
   "source": [
    "### To facilitate the recursion, let's organize the list, sorting only those with individual data and in ordinal."
   ]
  },
  {
   "cell_type": "code",
   "execution_count": 16,
   "metadata": {},
   "outputs": [],
   "source": [
    "key_vil = [f for f in sorted(os.listdir(path=path_key)) if 'HH' not in f]\n",
    "key_vil = sorted(key_vil, key=lambda x: int(os.path.splitext(x.split('_')[2])[0]))"
   ]
  },
  {
   "cell_type": "code",
   "execution_count": 17,
   "metadata": {},
   "outputs": [
    {
     "data": {
      "text/plain": [
       "['key_vilno_1.csv',\n",
       " 'key_vilno_2.csv',\n",
       " 'key_vilno_3.csv',\n",
       " 'key_vilno_4.csv',\n",
       " 'key_vilno_5.csv',\n",
       " 'key_vilno_6.csv',\n",
       " 'key_vilno_7.csv',\n",
       " 'key_vilno_8.csv',\n",
       " 'key_vilno_9.csv',\n",
       " 'key_vilno_10.csv']"
      ]
     },
     "execution_count": 17,
     "metadata": {},
     "output_type": "execute_result"
    }
   ],
   "source": [
    "key_vil[:10]"
   ]
  },
  {
   "cell_type": "code",
   "execution_count": 18,
   "metadata": {},
   "outputs": [
    {
     "data": {
      "text/plain": [
       "[(0, 'key_vilno_1.csv'),\n",
       " (1, 'key_vilno_2.csv'),\n",
       " (2, 'key_vilno_3.csv'),\n",
       " (3, 'key_vilno_4.csv'),\n",
       " (4, 'key_vilno_5.csv'),\n",
       " (5, 'key_vilno_6.csv'),\n",
       " (6, 'key_vilno_7.csv'),\n",
       " (7, 'key_vilno_8.csv'),\n",
       " (8, 'key_vilno_9.csv'),\n",
       " (9, 'key_vilno_10.csv')]"
      ]
     },
     "execution_count": 18,
     "metadata": {},
     "output_type": "execute_result"
    }
   ],
   "source": [
    "list(enumerate(key_vil))[:10]"
   ]
  },
  {
   "cell_type": "markdown",
   "metadata": {},
   "source": [
    "### Let's understand key_vil files, picking village 1"
   ]
  },
  {
   "cell_type": "code",
   "execution_count": 19,
   "metadata": {},
   "outputs": [
    {
     "name": "stdout",
     "output_type": "stream",
     "text": [
      "/home/jovyan/work/Social_Network_Analysis/microfinance_indian_villages/datav4.0/Data/1. Network Data/Adjacency Matrix Keys\n"
     ]
    }
   ],
   "source": [
    "os.chdir(path_key)\n",
    "print(os.getcwd())"
   ]
  },
  {
   "cell_type": "code",
   "execution_count": 20,
   "metadata": {},
   "outputs": [],
   "source": [
    "key_vilno1 = pd.read_csv('key_vilno_1.csv',header=None)"
   ]
  },
  {
   "cell_type": "code",
   "execution_count": 21,
   "metadata": {},
   "outputs": [
    {
     "name": "stdout",
     "output_type": "stream",
     "text": [
      "<class 'pandas.core.frame.DataFrame'>\n",
      "RangeIndex: 843 entries, 0 to 842\n",
      "Data columns (total 1 columns):\n",
      " #   Column  Non-Null Count  Dtype\n",
      "---  ------  --------------  -----\n",
      " 0   0       843 non-null    int64\n",
      "dtypes: int64(1)\n",
      "memory usage: 6.7 KB\n"
     ]
    }
   ],
   "source": [
    "key_vilno1.info()"
   ]
  },
  {
   "cell_type": "markdown",
   "metadata": {},
   "source": [
    "Adding a column head to make it easier later on"
   ]
  },
  {
   "cell_type": "code",
   "execution_count": 22,
   "metadata": {},
   "outputs": [],
   "source": [
    "key_vilno1.columns=['pid']"
   ]
  },
  {
   "cell_type": "code",
   "execution_count": 23,
   "metadata": {},
   "outputs": [
    {
     "data": {
      "text/html": [
       "<div>\n",
       "<style scoped>\n",
       "    .dataframe tbody tr th:only-of-type {\n",
       "        vertical-align: middle;\n",
       "    }\n",
       "\n",
       "    .dataframe tbody tr th {\n",
       "        vertical-align: top;\n",
       "    }\n",
       "\n",
       "    .dataframe thead th {\n",
       "        text-align: right;\n",
       "    }\n",
       "</style>\n",
       "<table border=\"1\" class=\"dataframe\">\n",
       "  <thead>\n",
       "    <tr style=\"text-align: right;\">\n",
       "      <th></th>\n",
       "      <th>pid</th>\n",
       "    </tr>\n",
       "  </thead>\n",
       "  <tbody>\n",
       "    <tr>\n",
       "      <th>0</th>\n",
       "      <td>100101</td>\n",
       "    </tr>\n",
       "    <tr>\n",
       "      <th>1</th>\n",
       "      <td>100102</td>\n",
       "    </tr>\n",
       "    <tr>\n",
       "      <th>2</th>\n",
       "      <td>100103</td>\n",
       "    </tr>\n",
       "    <tr>\n",
       "      <th>3</th>\n",
       "      <td>100104</td>\n",
       "    </tr>\n",
       "    <tr>\n",
       "      <th>4</th>\n",
       "      <td>100201</td>\n",
       "    </tr>\n",
       "    <tr>\n",
       "      <th>5</th>\n",
       "      <td>100202</td>\n",
       "    </tr>\n",
       "    <tr>\n",
       "      <th>6</th>\n",
       "      <td>100203</td>\n",
       "    </tr>\n",
       "    <tr>\n",
       "      <th>7</th>\n",
       "      <td>100204</td>\n",
       "    </tr>\n",
       "    <tr>\n",
       "      <th>8</th>\n",
       "      <td>100205</td>\n",
       "    </tr>\n",
       "  </tbody>\n",
       "</table>\n",
       "</div>"
      ],
      "text/plain": [
       "      pid\n",
       "0  100101\n",
       "1  100102\n",
       "2  100103\n",
       "3  100104\n",
       "4  100201\n",
       "5  100202\n",
       "6  100203\n",
       "7  100204\n",
       "8  100205"
      ]
     },
     "execution_count": 23,
     "metadata": {},
     "output_type": "execute_result"
    }
   ],
   "source": [
    "key_vilno1.head(9)"
   ]
  },
  {
   "cell_type": "code",
   "execution_count": 24,
   "metadata": {},
   "outputs": [
    {
     "data": {
      "text/plain": [
       "(843, 1)"
      ]
     },
     "execution_count": 24,
     "metadata": {},
     "output_type": "execute_result"
    }
   ],
   "source": [
    "key_vilno1.shape"
   ]
  },
  {
   "cell_type": "markdown",
   "metadata": {},
   "source": [
    "## Now let's understand the Adjacency Matrices for each village"
   ]
  },
  {
   "cell_type": "code",
   "execution_count": 25,
   "metadata": {},
   "outputs": [
    {
     "name": "stdout",
     "output_type": "stream",
     "text": [
      "/home/jovyan/work/Social_Network_Analysis/microfinance_indian_villages/datav4.0/Data/1. Network Data/Adjacency Matrices\n"
     ]
    }
   ],
   "source": [
    "os.chdir(path_adj)\n",
    "print(os.getcwd())"
   ]
  },
  {
   "cell_type": "markdown",
   "metadata": {},
   "source": [
    "### Again we filter and order the matrices"
   ]
  },
  {
   "cell_type": "code",
   "execution_count": 26,
   "metadata": {},
   "outputs": [],
   "source": [
    "files_vilno_1 = [f for f in os.listdir(path=path_adj) if '_vilno_1.' in f and 'HH' not in f]"
   ]
  },
  {
   "cell_type": "code",
   "execution_count": 27,
   "metadata": {},
   "outputs": [
    {
     "data": {
      "text/plain": [
       "[(0, 'adj_allVillageRelationships_vilno_1.csv'),\n",
       " (1, 'adj_andRelationships_vilno_1.csv'),\n",
       " (2, 'adj_borrowmoney_vilno_1.csv'),\n",
       " (3, 'adj_giveadvice_vilno_1.csv'),\n",
       " (4, 'adj_helpdecision_vilno_1.csv'),\n",
       " (5, 'adj_keroricecome_vilno_1.csv'),\n",
       " (6, 'adj_keroricego_vilno_1.csv'),\n",
       " (7, 'adj_lendmoney_vilno_1.csv'),\n",
       " (8, 'adj_medic_vilno_1.csv'),\n",
       " (9, 'adj_nonrel_vilno_1.csv'),\n",
       " (10, 'adj_rel_vilno_1.csv'),\n",
       " (11, 'adj_templecompany_vilno_1.csv'),\n",
       " (12, 'adj_visitcome_vilno_1.csv'),\n",
       " (13, 'adj_visitgo_vilno_1.csv')]"
      ]
     },
     "execution_count": 27,
     "metadata": {},
     "output_type": "execute_result"
    }
   ],
   "source": [
    "list(enumerate(files_vilno_1))"
   ]
  },
  {
   "cell_type": "code",
   "execution_count": 28,
   "metadata": {},
   "outputs": [],
   "source": [
    "sequencia = [(((list(enumerate(files_vilno_1))[i][0])),((list(enumerate(files_vilno_1))[i][1]).split('_')[1])) for i in range(14)]"
   ]
  },
  {
   "cell_type": "markdown",
   "metadata": {},
   "source": [
    "#### A quick clean up, to select the text that will be added as an edge \"atribute\" or \"relationship type\""
   ]
  },
  {
   "cell_type": "raw",
   "metadata": {},
   "source": [
    "sequencia"
   ]
  },
  {
   "cell_type": "markdown",
   "metadata": {},
   "source": [
    "### Let's merge the Key_vil with the adjency matrix"
   ]
  },
  {
   "cell_type": "code",
   "execution_count": 29,
   "metadata": {},
   "outputs": [],
   "source": [
    "#df_vilno_1 = [pd.read_csv(file, header=None) for file in key_vil]"
   ]
  },
  {
   "cell_type": "code",
   "execution_count": 30,
   "metadata": {},
   "outputs": [
    {
     "data": {
      "text/html": [
       "<div>\n",
       "<style scoped>\n",
       "    .dataframe tbody tr th:only-of-type {\n",
       "        vertical-align: middle;\n",
       "    }\n",
       "\n",
       "    .dataframe tbody tr th {\n",
       "        vertical-align: top;\n",
       "    }\n",
       "\n",
       "    .dataframe thead th {\n",
       "        text-align: right;\n",
       "    }\n",
       "</style>\n",
       "<table border=\"1\" class=\"dataframe\">\n",
       "  <thead>\n",
       "    <tr style=\"text-align: right;\">\n",
       "      <th></th>\n",
       "      <th>pid</th>\n",
       "    </tr>\n",
       "  </thead>\n",
       "  <tbody>\n",
       "    <tr>\n",
       "      <th>0</th>\n",
       "      <td>100101</td>\n",
       "    </tr>\n",
       "    <tr>\n",
       "      <th>1</th>\n",
       "      <td>100102</td>\n",
       "    </tr>\n",
       "    <tr>\n",
       "      <th>2</th>\n",
       "      <td>100103</td>\n",
       "    </tr>\n",
       "    <tr>\n",
       "      <th>3</th>\n",
       "      <td>100104</td>\n",
       "    </tr>\n",
       "    <tr>\n",
       "      <th>4</th>\n",
       "      <td>100201</td>\n",
       "    </tr>\n",
       "  </tbody>\n",
       "</table>\n",
       "</div>"
      ],
      "text/plain": [
       "      pid\n",
       "0  100101\n",
       "1  100102\n",
       "2  100103\n",
       "3  100104\n",
       "4  100201"
      ]
     },
     "execution_count": 30,
     "metadata": {},
     "output_type": "execute_result"
    }
   ],
   "source": [
    "key_vilno1.head()"
   ]
  },
  {
   "cell_type": "code",
   "execution_count": 31,
   "metadata": {},
   "outputs": [
    {
     "data": {
      "text/plain": [
       "(843, 1)"
      ]
     },
     "execution_count": 31,
     "metadata": {},
     "output_type": "execute_result"
    }
   ],
   "source": [
    "key_vilno1.shape"
   ]
  },
  {
   "cell_type": "code",
   "execution_count": 32,
   "metadata": {},
   "outputs": [],
   "source": [
    "pd_vil1 = pd.merge(key_vilno1,subset_vilno_1,how='left',on='pid')"
   ]
  },
  {
   "cell_type": "code",
   "execution_count": 33,
   "metadata": {},
   "outputs": [
    {
     "data": {
      "text/html": [
       "<div>\n",
       "<style scoped>\n",
       "    .dataframe tbody tr th:only-of-type {\n",
       "        vertical-align: middle;\n",
       "    }\n",
       "\n",
       "    .dataframe tbody tr th {\n",
       "        vertical-align: top;\n",
       "    }\n",
       "\n",
       "    .dataframe thead th {\n",
       "        text-align: right;\n",
       "    }\n",
       "</style>\n",
       "<table border=\"1\" class=\"dataframe\">\n",
       "  <thead>\n",
       "    <tr style=\"text-align: right;\">\n",
       "      <th></th>\n",
       "      <th>pid</th>\n",
       "      <th>village</th>\n",
       "      <th>adjmatrix_key</th>\n",
       "      <th>hhid</th>\n",
       "      <th>resp_id</th>\n",
       "      <th>resp_gend</th>\n",
       "      <th>resp_status</th>\n",
       "      <th>age</th>\n",
       "      <th>religion</th>\n",
       "      <th>caste</th>\n",
       "      <th>...</th>\n",
       "      <th>privategovt</th>\n",
       "      <th>work_outside</th>\n",
       "      <th>work_outside_freq</th>\n",
       "      <th>shgparticipate</th>\n",
       "      <th>shg_no</th>\n",
       "      <th>savings</th>\n",
       "      <th>savings_no</th>\n",
       "      <th>electioncard</th>\n",
       "      <th>rationcard</th>\n",
       "      <th>rationcard_colour</th>\n",
       "    </tr>\n",
       "  </thead>\n",
       "  <tbody>\n",
       "    <tr>\n",
       "      <th>4</th>\n",
       "      <td>100201</td>\n",
       "      <td>1.0</td>\n",
       "      <td>5.0</td>\n",
       "      <td>1002.0</td>\n",
       "      <td>1.0</td>\n",
       "      <td>1.0</td>\n",
       "      <td>Head of Household</td>\n",
       "      <td>38.0</td>\n",
       "      <td>HINDUISM</td>\n",
       "      <td>OBC</td>\n",
       "      <td>...</td>\n",
       "      <td>PRIVATE BUSINESS</td>\n",
       "      <td>Yes</td>\n",
       "      <td>0.0</td>\n",
       "      <td>No</td>\n",
       "      <td>NaN</td>\n",
       "      <td>No</td>\n",
       "      <td>NaN</td>\n",
       "      <td>Yes</td>\n",
       "      <td>Yes</td>\n",
       "      <td>GREEN</td>\n",
       "    </tr>\n",
       "    <tr>\n",
       "      <th>5</th>\n",
       "      <td>100202</td>\n",
       "      <td>1.0</td>\n",
       "      <td>6.0</td>\n",
       "      <td>1002.0</td>\n",
       "      <td>2.0</td>\n",
       "      <td>2.0</td>\n",
       "      <td>Spouse of Head of Household</td>\n",
       "      <td>27.0</td>\n",
       "      <td>HINDUISM</td>\n",
       "      <td>OBC</td>\n",
       "      <td>...</td>\n",
       "      <td></td>\n",
       "      <td>NaN</td>\n",
       "      <td>NaN</td>\n",
       "      <td>No</td>\n",
       "      <td>NaN</td>\n",
       "      <td>No</td>\n",
       "      <td>NaN</td>\n",
       "      <td>Yes</td>\n",
       "      <td>Yes</td>\n",
       "      <td>GREEN</td>\n",
       "    </tr>\n",
       "    <tr>\n",
       "      <th>22</th>\n",
       "      <td>100601</td>\n",
       "      <td>1.0</td>\n",
       "      <td>23.0</td>\n",
       "      <td>1006.0</td>\n",
       "      <td>1.0</td>\n",
       "      <td>1.0</td>\n",
       "      <td>Head of Household</td>\n",
       "      <td>29.0</td>\n",
       "      <td>HINDUISM</td>\n",
       "      <td>OBC</td>\n",
       "      <td>...</td>\n",
       "      <td>OTHER LAND</td>\n",
       "      <td>No</td>\n",
       "      <td>NaN</td>\n",
       "      <td>No</td>\n",
       "      <td>NaN</td>\n",
       "      <td>No</td>\n",
       "      <td>NaN</td>\n",
       "      <td>Yes</td>\n",
       "      <td>Yes</td>\n",
       "      <td>GREEN</td>\n",
       "    </tr>\n",
       "    <tr>\n",
       "      <th>23</th>\n",
       "      <td>100602</td>\n",
       "      <td>1.0</td>\n",
       "      <td>24.0</td>\n",
       "      <td>1006.0</td>\n",
       "      <td>2.0</td>\n",
       "      <td>2.0</td>\n",
       "      <td>Spouse of Head of Household</td>\n",
       "      <td>24.0</td>\n",
       "      <td>HINDUISM</td>\n",
       "      <td>OBC</td>\n",
       "      <td>...</td>\n",
       "      <td>PRIVATE BUSINESS</td>\n",
       "      <td>No</td>\n",
       "      <td>NaN</td>\n",
       "      <td>Yes</td>\n",
       "      <td>1.0</td>\n",
       "      <td>Yes</td>\n",
       "      <td>1.0</td>\n",
       "      <td>Yes</td>\n",
       "      <td>No</td>\n",
       "      <td></td>\n",
       "    </tr>\n",
       "    <tr>\n",
       "      <th>26</th>\n",
       "      <td>100701</td>\n",
       "      <td>1.0</td>\n",
       "      <td>27.0</td>\n",
       "      <td>1007.0</td>\n",
       "      <td>1.0</td>\n",
       "      <td>1.0</td>\n",
       "      <td>Head of Household</td>\n",
       "      <td>58.0</td>\n",
       "      <td>HINDUISM</td>\n",
       "      <td>OBC</td>\n",
       "      <td>...</td>\n",
       "      <td>OTHER LAND</td>\n",
       "      <td>No</td>\n",
       "      <td>NaN</td>\n",
       "      <td>No</td>\n",
       "      <td>NaN</td>\n",
       "      <td>No</td>\n",
       "      <td>NaN</td>\n",
       "      <td>Yes</td>\n",
       "      <td>Yes</td>\n",
       "      <td>GREEN</td>\n",
       "    </tr>\n",
       "    <tr>\n",
       "      <th>...</th>\n",
       "      <td>...</td>\n",
       "      <td>...</td>\n",
       "      <td>...</td>\n",
       "      <td>...</td>\n",
       "      <td>...</td>\n",
       "      <td>...</td>\n",
       "      <td>...</td>\n",
       "      <td>...</td>\n",
       "      <td>...</td>\n",
       "      <td>...</td>\n",
       "      <td>...</td>\n",
       "      <td>...</td>\n",
       "      <td>...</td>\n",
       "      <td>...</td>\n",
       "      <td>...</td>\n",
       "      <td>...</td>\n",
       "      <td>...</td>\n",
       "      <td>...</td>\n",
       "      <td>...</td>\n",
       "      <td>...</td>\n",
       "      <td>...</td>\n",
       "    </tr>\n",
       "    <tr>\n",
       "      <th>790</th>\n",
       "      <td>117202</td>\n",
       "      <td>1.0</td>\n",
       "      <td>791.0</td>\n",
       "      <td>1172.0</td>\n",
       "      <td>2.0</td>\n",
       "      <td>2.0</td>\n",
       "      <td>Spouse of Head of Household</td>\n",
       "      <td>62.0</td>\n",
       "      <td>HINDUISM</td>\n",
       "      <td>OBC</td>\n",
       "      <td>...</td>\n",
       "      <td>IN LAND LORD</td>\n",
       "      <td>No</td>\n",
       "      <td>NaN</td>\n",
       "      <td>No</td>\n",
       "      <td>NaN</td>\n",
       "      <td>No</td>\n",
       "      <td>NaN</td>\n",
       "      <td>Yes</td>\n",
       "      <td>Yes</td>\n",
       "      <td>GREEN</td>\n",
       "    </tr>\n",
       "    <tr>\n",
       "      <th>791</th>\n",
       "      <td>117203</td>\n",
       "      <td>1.0</td>\n",
       "      <td>792.0</td>\n",
       "      <td>1172.0</td>\n",
       "      <td>3.0</td>\n",
       "      <td>2.0</td>\n",
       "      <td>Other</td>\n",
       "      <td>30.0</td>\n",
       "      <td>HINDUISM</td>\n",
       "      <td>OBC</td>\n",
       "      <td>...</td>\n",
       "      <td>LAND LORD</td>\n",
       "      <td>No</td>\n",
       "      <td>NaN</td>\n",
       "      <td>No</td>\n",
       "      <td>NaN</td>\n",
       "      <td>No</td>\n",
       "      <td>NaN</td>\n",
       "      <td>Yes</td>\n",
       "      <td>Yes</td>\n",
       "      <td>YELLOW</td>\n",
       "    </tr>\n",
       "    <tr>\n",
       "      <th>794</th>\n",
       "      <td>117301</td>\n",
       "      <td>1.0</td>\n",
       "      <td>795.0</td>\n",
       "      <td>1173.0</td>\n",
       "      <td>1.0</td>\n",
       "      <td>1.0</td>\n",
       "      <td>Head of Household</td>\n",
       "      <td>75.0</td>\n",
       "      <td>HINDUISM</td>\n",
       "      <td>OBC</td>\n",
       "      <td>...</td>\n",
       "      <td></td>\n",
       "      <td>NaN</td>\n",
       "      <td>NaN</td>\n",
       "      <td>No</td>\n",
       "      <td>NaN</td>\n",
       "      <td>No</td>\n",
       "      <td>NaN</td>\n",
       "      <td>Yes</td>\n",
       "      <td>Yes</td>\n",
       "      <td>APL</td>\n",
       "    </tr>\n",
       "    <tr>\n",
       "      <th>801</th>\n",
       "      <td>117403</td>\n",
       "      <td>1.0</td>\n",
       "      <td>802.0</td>\n",
       "      <td>1174.0</td>\n",
       "      <td>3.0</td>\n",
       "      <td>2.0</td>\n",
       "      <td>Other</td>\n",
       "      <td>26.0</td>\n",
       "      <td>HINDUISM</td>\n",
       "      <td>SCHEDULED CASTE</td>\n",
       "      <td>...</td>\n",
       "      <td>PRIVATE BUSINESS</td>\n",
       "      <td>No</td>\n",
       "      <td>NaN</td>\n",
       "      <td>No</td>\n",
       "      <td>NaN</td>\n",
       "      <td>No</td>\n",
       "      <td>NaN</td>\n",
       "      <td>No</td>\n",
       "      <td>No</td>\n",
       "      <td></td>\n",
       "    </tr>\n",
       "    <tr>\n",
       "      <th>802</th>\n",
       "      <td>117404</td>\n",
       "      <td>1.0</td>\n",
       "      <td>803.0</td>\n",
       "      <td>1174.0</td>\n",
       "      <td>4.0</td>\n",
       "      <td>1.0</td>\n",
       "      <td>Other</td>\n",
       "      <td>18.0</td>\n",
       "      <td>HINDUISM</td>\n",
       "      <td>SCHEDULED CASTE</td>\n",
       "      <td>...</td>\n",
       "      <td>PRIVATE BUSINESS</td>\n",
       "      <td>Yes</td>\n",
       "      <td>2.0</td>\n",
       "      <td>No</td>\n",
       "      <td>NaN</td>\n",
       "      <td>No</td>\n",
       "      <td>NaN</td>\n",
       "      <td>Yes</td>\n",
       "      <td>No</td>\n",
       "      <td></td>\n",
       "    </tr>\n",
       "  </tbody>\n",
       "</table>\n",
       "<p>203 rows × 48 columns</p>\n",
       "</div>"
      ],
      "text/plain": [
       "        pid  village  adjmatrix_key    hhid  resp_id  resp_gend  \\\n",
       "4    100201      1.0            5.0  1002.0      1.0        1.0   \n",
       "5    100202      1.0            6.0  1002.0      2.0        2.0   \n",
       "22   100601      1.0           23.0  1006.0      1.0        1.0   \n",
       "23   100602      1.0           24.0  1006.0      2.0        2.0   \n",
       "26   100701      1.0           27.0  1007.0      1.0        1.0   \n",
       "..      ...      ...            ...     ...      ...        ...   \n",
       "790  117202      1.0          791.0  1172.0      2.0        2.0   \n",
       "791  117203      1.0          792.0  1172.0      3.0        2.0   \n",
       "794  117301      1.0          795.0  1173.0      1.0        1.0   \n",
       "801  117403      1.0          802.0  1174.0      3.0        2.0   \n",
       "802  117404      1.0          803.0  1174.0      4.0        1.0   \n",
       "\n",
       "                     resp_status   age  religion            caste  ...  \\\n",
       "4              Head of Household  38.0  HINDUISM              OBC  ...   \n",
       "5    Spouse of Head of Household  27.0  HINDUISM              OBC  ...   \n",
       "22             Head of Household  29.0  HINDUISM              OBC  ...   \n",
       "23   Spouse of Head of Household  24.0  HINDUISM              OBC  ...   \n",
       "26             Head of Household  58.0  HINDUISM              OBC  ...   \n",
       "..                           ...   ...       ...              ...  ...   \n",
       "790  Spouse of Head of Household  62.0  HINDUISM              OBC  ...   \n",
       "791                        Other  30.0  HINDUISM              OBC  ...   \n",
       "794            Head of Household  75.0  HINDUISM              OBC  ...   \n",
       "801                        Other  26.0  HINDUISM  SCHEDULED CASTE  ...   \n",
       "802                        Other  18.0  HINDUISM  SCHEDULED CASTE  ...   \n",
       "\n",
       "          privategovt work_outside work_outside_freq shgparticipate shg_no  \\\n",
       "4    PRIVATE BUSINESS          Yes               0.0             No    NaN   \n",
       "5                              NaN               NaN             No    NaN   \n",
       "22         OTHER LAND           No               NaN             No    NaN   \n",
       "23   PRIVATE BUSINESS           No               NaN            Yes    1.0   \n",
       "26         OTHER LAND           No               NaN             No    NaN   \n",
       "..                ...          ...               ...            ...    ...   \n",
       "790      IN LAND LORD           No               NaN             No    NaN   \n",
       "791         LAND LORD           No               NaN             No    NaN   \n",
       "794                            NaN               NaN             No    NaN   \n",
       "801  PRIVATE BUSINESS           No               NaN             No    NaN   \n",
       "802  PRIVATE BUSINESS          Yes               2.0             No    NaN   \n",
       "\n",
       "    savings savings_no electioncard rationcard rationcard_colour  \n",
       "4        No        NaN          Yes        Yes             GREEN  \n",
       "5        No        NaN          Yes        Yes             GREEN  \n",
       "22       No        NaN          Yes        Yes             GREEN  \n",
       "23      Yes        1.0          Yes         No                    \n",
       "26       No        NaN          Yes        Yes             GREEN  \n",
       "..      ...        ...          ...        ...               ...  \n",
       "790      No        NaN          Yes        Yes             GREEN  \n",
       "791      No        NaN          Yes        Yes            YELLOW  \n",
       "794      No        NaN          Yes        Yes               APL  \n",
       "801      No        NaN           No         No                    \n",
       "802      No        NaN          Yes         No                    \n",
       "\n",
       "[203 rows x 48 columns]"
      ]
     },
     "execution_count": 33,
     "metadata": {},
     "output_type": "execute_result"
    }
   ],
   "source": [
    "pd_vil1.loc[pd_vil1['village'] > 0]"
   ]
  },
  {
   "cell_type": "markdown",
   "metadata": {},
   "source": [
    "#### As stated, there are no demographic data for all people, only a subset."
   ]
  },
  {
   "cell_type": "markdown",
   "metadata": {},
   "source": [
    "# Creating the Graph in neo4j"
   ]
  },
  {
   "cell_type": "markdown",
   "metadata": {},
   "source": [
    "We are using the python-neo4j official driver API."
   ]
  },
  {
   "cell_type": "markdown",
   "metadata": {},
   "source": [
    "## Attention if this notebook is run inside a Docker Container\n",
    "\n",
    "**Notes (23/11/2020)**. This notebook in run inside a docker container. In docker-compose.yml, set network to \"host\", so the container use the host network and below it can access the localhost:7687 if the Host.\n",
    "Authentication cchanged from None to auth=(\"neo4j\", \"password\")"
   ]
  },
  {
   "cell_type": "code",
   "execution_count": 34,
   "metadata": {},
   "outputs": [],
   "source": [
    "from neo4j import GraphDatabase"
   ]
  },
  {
   "cell_type": "code",
   "execution_count": 35,
   "metadata": {},
   "outputs": [],
   "source": [
    "uri = \"neo4j://localhost:7687\"\n",
    "user = \"neo4j\"\n",
    "password = '12345678'\n",
    "AUTH = (user, password)\n",
    "driver = GraphDatabase.driver(uri, auth=AUTH)"
   ]
  },
  {
   "cell_type": "code",
   "execution_count": 1,
   "metadata": {},
   "outputs": [],
   "source": [
    "with driver:\n",
    "    driver.verify_connectivity()\n",
    "session = driver.session()"
   ]
  },
  {
   "cell_type": "code",
   "execution_count": null,
   "metadata": {},
   "outputs": [],
   "source": [
    "session    "
   ]
  },
  {
   "cell_type": "code",
   "execution_count": null,
   "metadata": {},
   "outputs": [],
   "source": [
    "session._connection"
   ]
  },
  {
   "cell_type": "markdown",
   "metadata": {},
   "source": [
    "### Let's create some basic methods"
   ]
  },
  {
   "cell_type": "code",
   "execution_count": null,
   "metadata": {},
   "outputs": [],
   "source": [
    "def count_nodes(tx):\n",
    "    result = tx.run(\"MATCH (n) RETURN count(n)\")\n",
    "    record = result.single()\n",
    "    return record[0]    "
   ]
  },
  {
   "cell_type": "code",
   "execution_count": null,
   "metadata": {},
   "outputs": [],
   "source": [
    "#session.read_transaction(count_nodes)"
   ]
  },
  {
   "cell_type": "code",
   "execution_count": null,
   "metadata": {},
   "outputs": [],
   "source": [
    "#session.closed()"
   ]
  },
  {
   "cell_type": "code",
   "execution_count": null,
   "metadata": {},
   "outputs": [],
   "source": [
    "#session.has_transaction()"
   ]
  },
  {
   "cell_type": "code",
   "execution_count": null,
   "metadata": {},
   "outputs": [],
   "source": [
    "key_vilno1.head(5),key_vilno1.tail(5)"
   ]
  },
  {
   "cell_type": "code",
   "execution_count": null,
   "metadata": {},
   "outputs": [],
   "source": [
    "#Let's transform each of the adjacency files (csv) to panda dataframes\n",
    "files_vilno_1 = [f for f in os.listdir(path=path_adj) if '_vilno_1.' in f and 'HH' not in f]"
   ]
  },
  {
   "cell_type": "code",
   "execution_count": null,
   "metadata": {},
   "outputs": [],
   "source": [
    "df_vilno_1 = [pd.read_csv(file, header=None) for file in files_vilno_1]"
   ]
  },
  {
   "cell_type": "code",
   "execution_count": null,
   "metadata": {},
   "outputs": [],
   "source": [
    "df_vilno_1[7].head(6)"
   ]
  },
  {
   "cell_type": "code",
   "execution_count": null,
   "metadata": {},
   "outputs": [],
   "source": [
    "sequencia[0:15]"
   ]
  },
  {
   "cell_type": "code",
   "execution_count": null,
   "metadata": {},
   "outputs": [],
   "source": [
    "(m,n) = df_vilno_1[11].shape\n",
    "(m,n)"
   ]
  },
  {
   "cell_type": "code",
   "execution_count": null,
   "metadata": {},
   "outputs": [],
   "source": [
    "def create_person(driver, pid):\n",
    "    with driver.session() as session:\n",
    "        tx = session.begin_transaction()\n",
    "        id = tx.run(\"CREATE (a:Person{pid:$pid}) RETURN id(a)\", pid=pid).single().value()\n",
    "        tx.commit()\n",
    "        return id"
   ]
  },
  {
   "cell_type": "code",
   "execution_count": null,
   "metadata": {},
   "outputs": [],
   "source": [
    "def get_person_id(driver,pid):\n",
    "    with driver.session() as session:\n",
    "        tx = session.begin_transaction()\n",
    "        try:\n",
    "            id = tx.run(\"MATCH (a:Person{pid:$pid})\"\n",
    "                      \"RETURN id(a)\", pid=pid).single().value()\n",
    "            #tx.commit()\n",
    "            return id\n",
    "        except:\n",
    "            return create_person(driver,pid)"
   ]
  },
  {
   "cell_type": "code",
   "execution_count": null,
   "metadata": {},
   "outputs": [],
   "source": [
    "def create_rel(driver, pid1, pid2, typo):\n",
    "    with driver.session() as session:\n",
    "        tx = session.begin_transaction()\n",
    "        id1 = get_person_id(driver,pid1)\n",
    "        id2 = get_person_id(driver,pid2)\n",
    "        stmt1 = \"MATCH (a) WHERE id(a)=$id1 \"\"MATCH (b) WHERE id(b)=$id2\"\n",
    "        stmt2 = \"MERGE (a)-[r:{}]->(b) RETURN a,r,b\".format(typo)                \n",
    "        tx.run(stmt1+' '+ stmt2, id1=id1, id2=id2)\n",
    "        tx.commit()"
   ]
  },
  {
   "cell_type": "code",
   "execution_count": null,
   "metadata": {},
   "outputs": [],
   "source": [
    "def create_graph(num, tema, m, n):\n",
    "    for i in range(m):\n",
    "        for j in range(m-i):\n",
    "            if (df_vilno_1[num][i][j+i] == 1):\n",
    "                pid1 = int(key_vilno1['pid'][i])\n",
    "                pid2 = int(key_vilno1['pid'][j+i])\n",
    "                #print(pid1, pid2, df_vilno_1[num][i][j+i])\n",
    "                create_rel(driver, pid1, pid2, tema)"
   ]
  },
  {
   "cell_type": "code",
   "execution_count": null,
   "metadata": {},
   "outputs": [],
   "source": [
    "sequencia[0:15]"
   ]
  },
  {
   "cell_type": "code",
   "execution_count": null,
   "metadata": {},
   "outputs": [],
   "source": [
    "def make_neo4j_graph():\n",
    "    for item in sequencia[0:1]:\n",
    "        num = item[0]\n",
    "        tema = item[1]\n",
    "        (m,n) = df_vilno_1[num].shape\n",
    "        print(num, m, n, tema)\n",
    "        create_graph(num, tema, m, n)\n",
    "    "
   ]
  },
  {
   "cell_type": "code",
   "execution_count": null,
   "metadata": {},
   "outputs": [],
   "source": [
    "make_neo4j_graph()"
   ]
  },
  {
   "cell_type": "code",
   "execution_count": null,
   "metadata": {},
   "outputs": [],
   "source": [
    "for i in range(m):\n",
    "    for j in range(n):\n",
    "        if (df_vilno_1[7][i][j] == 1):\n",
    "            pid1 = int(key_vilno1['pid'][i])\n",
    "            pid2 = int(key_vilno1['pid'][j])\n",
    "            #create_rel(driver, pid1, pid2, 'lendmoney')"
   ]
  },
  {
   "cell_type": "code",
   "execution_count": null,
   "metadata": {},
   "outputs": [],
   "source": [
    "df_vilno_1[11][0][3], df_vilno_1[11][3][0]"
   ]
  },
  {
   "cell_type": "code",
   "execution_count": null,
   "metadata": {},
   "outputs": [],
   "source": [
    "type(int(key_vilno1['pid'][0]))"
   ]
  },
  {
   "cell_type": "code",
   "execution_count": null,
   "metadata": {},
   "outputs": [],
   "source": [
    "create_person(driver, 100460)"
   ]
  },
  {
   "cell_type": "code",
   "execution_count": null,
   "metadata": {},
   "outputs": [],
   "source": [
    "create_person(driver, 100750)"
   ]
  },
  {
   "cell_type": "code",
   "execution_count": null,
   "metadata": {},
   "outputs": [],
   "source": [
    "create_rel(driver, 100700,100900,\"borrowfrom\")"
   ]
  },
  {
   "cell_type": "code",
   "execution_count": null,
   "metadata": {},
   "outputs": [],
   "source": [
    "get_person_id(driver,100900)"
   ]
  },
  {
   "cell_type": "markdown",
   "metadata": {},
   "source": [
    "# Let's Build a Multigraph using Networkx"
   ]
  },
  {
   "cell_type": "code",
   "execution_count": 34,
   "metadata": {},
   "outputs": [],
   "source": [
    "import pandas as pd\n",
    "import networkx as nx\n",
    "import matplotlib.pyplot as plt"
   ]
  },
  {
   "cell_type": "code",
   "execution_count": 35,
   "metadata": {},
   "outputs": [],
   "source": [
    "G = nx.MultiGraph()"
   ]
  },
  {
   "cell_type": "code",
   "execution_count": 36,
   "metadata": {},
   "outputs": [],
   "source": [
    "#Let's transform each of the adjacency files (csv) to panda dataframes\n",
    "files_vilno_1 = [f for f in os.listdir(path=path_adj) if '_vilno_1.' in f and 'HH' not in f]"
   ]
  },
  {
   "cell_type": "code",
   "execution_count": 37,
   "metadata": {},
   "outputs": [],
   "source": [
    "df_vilno_1 = [pd.read_csv(file, header=None) for file in files_vilno_1]"
   ]
  },
  {
   "cell_type": "code",
   "execution_count": 38,
   "metadata": {},
   "outputs": [
    {
     "data": {
      "text/html": [
       "<div>\n",
       "<style scoped>\n",
       "    .dataframe tbody tr th:only-of-type {\n",
       "        vertical-align: middle;\n",
       "    }\n",
       "\n",
       "    .dataframe tbody tr th {\n",
       "        vertical-align: top;\n",
       "    }\n",
       "\n",
       "    .dataframe thead th {\n",
       "        text-align: right;\n",
       "    }\n",
       "</style>\n",
       "<table border=\"1\" class=\"dataframe\">\n",
       "  <thead>\n",
       "    <tr style=\"text-align: right;\">\n",
       "      <th></th>\n",
       "      <th>0</th>\n",
       "      <th>1</th>\n",
       "      <th>2</th>\n",
       "      <th>3</th>\n",
       "      <th>4</th>\n",
       "      <th>5</th>\n",
       "      <th>6</th>\n",
       "      <th>7</th>\n",
       "      <th>8</th>\n",
       "      <th>9</th>\n",
       "      <th>...</th>\n",
       "      <th>833</th>\n",
       "      <th>834</th>\n",
       "      <th>835</th>\n",
       "      <th>836</th>\n",
       "      <th>837</th>\n",
       "      <th>838</th>\n",
       "      <th>839</th>\n",
       "      <th>840</th>\n",
       "      <th>841</th>\n",
       "      <th>842</th>\n",
       "    </tr>\n",
       "  </thead>\n",
       "  <tbody>\n",
       "    <tr>\n",
       "      <th>0</th>\n",
       "      <td>0</td>\n",
       "      <td>1</td>\n",
       "      <td>1</td>\n",
       "      <td>1</td>\n",
       "      <td>0</td>\n",
       "      <td>0</td>\n",
       "      <td>0</td>\n",
       "      <td>0</td>\n",
       "      <td>0</td>\n",
       "      <td>0</td>\n",
       "      <td>...</td>\n",
       "      <td>0</td>\n",
       "      <td>0</td>\n",
       "      <td>0</td>\n",
       "      <td>0</td>\n",
       "      <td>0</td>\n",
       "      <td>0</td>\n",
       "      <td>0</td>\n",
       "      <td>0</td>\n",
       "      <td>0</td>\n",
       "      <td>0</td>\n",
       "    </tr>\n",
       "    <tr>\n",
       "      <th>1</th>\n",
       "      <td>1</td>\n",
       "      <td>0</td>\n",
       "      <td>1</td>\n",
       "      <td>1</td>\n",
       "      <td>0</td>\n",
       "      <td>0</td>\n",
       "      <td>0</td>\n",
       "      <td>0</td>\n",
       "      <td>0</td>\n",
       "      <td>0</td>\n",
       "      <td>...</td>\n",
       "      <td>0</td>\n",
       "      <td>0</td>\n",
       "      <td>0</td>\n",
       "      <td>0</td>\n",
       "      <td>0</td>\n",
       "      <td>0</td>\n",
       "      <td>0</td>\n",
       "      <td>0</td>\n",
       "      <td>0</td>\n",
       "      <td>0</td>\n",
       "    </tr>\n",
       "    <tr>\n",
       "      <th>2</th>\n",
       "      <td>1</td>\n",
       "      <td>1</td>\n",
       "      <td>0</td>\n",
       "      <td>1</td>\n",
       "      <td>0</td>\n",
       "      <td>0</td>\n",
       "      <td>0</td>\n",
       "      <td>0</td>\n",
       "      <td>0</td>\n",
       "      <td>0</td>\n",
       "      <td>...</td>\n",
       "      <td>0</td>\n",
       "      <td>0</td>\n",
       "      <td>0</td>\n",
       "      <td>0</td>\n",
       "      <td>0</td>\n",
       "      <td>0</td>\n",
       "      <td>0</td>\n",
       "      <td>0</td>\n",
       "      <td>0</td>\n",
       "      <td>0</td>\n",
       "    </tr>\n",
       "    <tr>\n",
       "      <th>3</th>\n",
       "      <td>1</td>\n",
       "      <td>1</td>\n",
       "      <td>1</td>\n",
       "      <td>0</td>\n",
       "      <td>0</td>\n",
       "      <td>0</td>\n",
       "      <td>0</td>\n",
       "      <td>0</td>\n",
       "      <td>0</td>\n",
       "      <td>0</td>\n",
       "      <td>...</td>\n",
       "      <td>0</td>\n",
       "      <td>0</td>\n",
       "      <td>0</td>\n",
       "      <td>0</td>\n",
       "      <td>0</td>\n",
       "      <td>0</td>\n",
       "      <td>0</td>\n",
       "      <td>0</td>\n",
       "      <td>0</td>\n",
       "      <td>0</td>\n",
       "    </tr>\n",
       "    <tr>\n",
       "      <th>4</th>\n",
       "      <td>0</td>\n",
       "      <td>0</td>\n",
       "      <td>0</td>\n",
       "      <td>0</td>\n",
       "      <td>0</td>\n",
       "      <td>1</td>\n",
       "      <td>1</td>\n",
       "      <td>1</td>\n",
       "      <td>1</td>\n",
       "      <td>1</td>\n",
       "      <td>...</td>\n",
       "      <td>0</td>\n",
       "      <td>0</td>\n",
       "      <td>0</td>\n",
       "      <td>0</td>\n",
       "      <td>0</td>\n",
       "      <td>0</td>\n",
       "      <td>0</td>\n",
       "      <td>0</td>\n",
       "      <td>0</td>\n",
       "      <td>0</td>\n",
       "    </tr>\n",
       "    <tr>\n",
       "      <th>5</th>\n",
       "      <td>0</td>\n",
       "      <td>0</td>\n",
       "      <td>0</td>\n",
       "      <td>0</td>\n",
       "      <td>1</td>\n",
       "      <td>0</td>\n",
       "      <td>1</td>\n",
       "      <td>1</td>\n",
       "      <td>1</td>\n",
       "      <td>1</td>\n",
       "      <td>...</td>\n",
       "      <td>0</td>\n",
       "      <td>0</td>\n",
       "      <td>0</td>\n",
       "      <td>0</td>\n",
       "      <td>0</td>\n",
       "      <td>0</td>\n",
       "      <td>0</td>\n",
       "      <td>0</td>\n",
       "      <td>0</td>\n",
       "      <td>0</td>\n",
       "    </tr>\n",
       "  </tbody>\n",
       "</table>\n",
       "<p>6 rows × 843 columns</p>\n",
       "</div>"
      ],
      "text/plain": [
       "   0    1    2    3    4    5    6    7    8    9    ...  833  834  835  836  \\\n",
       "0    0    1    1    1    0    0    0    0    0    0  ...    0    0    0    0   \n",
       "1    1    0    1    1    0    0    0    0    0    0  ...    0    0    0    0   \n",
       "2    1    1    0    1    0    0    0    0    0    0  ...    0    0    0    0   \n",
       "3    1    1    1    0    0    0    0    0    0    0  ...    0    0    0    0   \n",
       "4    0    0    0    0    0    1    1    1    1    1  ...    0    0    0    0   \n",
       "5    0    0    0    0    1    0    1    1    1    1  ...    0    0    0    0   \n",
       "\n",
       "   837  838  839  840  841  842  \n",
       "0    0    0    0    0    0    0  \n",
       "1    0    0    0    0    0    0  \n",
       "2    0    0    0    0    0    0  \n",
       "3    0    0    0    0    0    0  \n",
       "4    0    0    0    0    0    0  \n",
       "5    0    0    0    0    0    0  \n",
       "\n",
       "[6 rows x 843 columns]"
      ]
     },
     "execution_count": 38,
     "metadata": {},
     "output_type": "execute_result"
    }
   ],
   "source": [
    "df_vilno_1[7].head(6)"
   ]
  },
  {
   "cell_type": "code",
   "execution_count": 39,
   "metadata": {},
   "outputs": [],
   "source": [
    "sequencia = [(((list(enumerate(files_vilno_1))[i][0])),((list(enumerate(files_vilno_1))[i][1]).split('_')[1])) for i in range(14)]"
   ]
  },
  {
   "cell_type": "code",
   "execution_count": 40,
   "metadata": {},
   "outputs": [],
   "source": [
    "# Relationships will be created sequencially, by \"tema\""
   ]
  },
  {
   "cell_type": "code",
   "execution_count": 41,
   "metadata": {},
   "outputs": [
    {
     "data": {
      "text/plain": [
       "[(0, 'allVillageRelationships'),\n",
       " (1, 'andRelationships'),\n",
       " (2, 'borrowmoney'),\n",
       " (3, 'giveadvice'),\n",
       " (4, 'helpdecision'),\n",
       " (5, 'keroricecome'),\n",
       " (6, 'keroricego'),\n",
       " (7, 'lendmoney'),\n",
       " (8, 'medic'),\n",
       " (9, 'nonrel'),\n",
       " (10, 'rel'),\n",
       " (11, 'templecompany'),\n",
       " (12, 'visitcome')]"
      ]
     },
     "execution_count": 41,
     "metadata": {},
     "output_type": "execute_result"
    }
   ],
   "source": [
    "sequencia[0:13]"
   ]
  },
  {
   "cell_type": "code",
   "execution_count": 43,
   "metadata": {},
   "outputs": [],
   "source": [
    "# Loop for creating the graph, not repeating as the adjacent matrix is simetric\n",
    "# However we assume direction line -> to columm, first comes first\n",
    "def create_graph(G, num, tema, m, n):\n",
    "    for i in range(m):\n",
    "        for j in range(m-i):\n",
    "            if (df_vilno_1[num][i][j+i] == 1):\n",
    "                pid1 = int(key_vilno1['pid'][i])\n",
    "                pid2 = int(key_vilno1['pid'][j+i])\n",
    "                #print(pid1, pid2, df_vilno_1[num][i][j+i])\n",
    "                G.add_edge(pid1, pid2, type=tema )"
   ]
  },
  {
   "cell_type": "code",
   "execution_count": 44,
   "metadata": {},
   "outputs": [
    {
     "name": "stdout",
     "output_type": "stream",
     "text": [
      "0 843 843 allVillageRelationships\n",
      "1 843 843 andRelationships\n",
      "2 843 843 borrowmoney\n",
      "3 843 843 giveadvice\n",
      "4 843 843 helpdecision\n",
      "5 843 843 keroricecome\n",
      "6 843 843 keroricego\n",
      "7 843 843 lendmoney\n",
      "8 843 843 medic\n",
      "9 843 843 nonrel\n",
      "10 843 843 rel\n",
      "11 843 843 templecompany\n",
      "12 843 843 visitcome\n",
      "13 843 843 visitgo\n"
     ]
    }
   ],
   "source": [
    "G.clear()\n",
    "G = nx.MultiGraph()\n",
    "for item in sequencia[0:14]:\n",
    "    num = item[0]\n",
    "    tema = item[1]\n",
    "    (m,n) = df_vilno_1[num].shape    \n",
    "    print(num, m, n, tema)\n",
    "    create_graph(G, num, tema, m, n)"
   ]
  },
  {
   "cell_type": "code",
   "execution_count": 44,
   "metadata": {},
   "outputs": [],
   "source": [
    "#G.edges(data=True)"
   ]
  },
  {
   "cell_type": "markdown",
   "metadata": {},
   "source": [
    "### Direction points to whom a given individual lend money to"
   ]
  },
  {
   "cell_type": "code",
   "execution_count": 45,
   "metadata": {},
   "outputs": [],
   "source": [
    "def subgraph_by_property(multiGraph=G, property='lendmoney'):\n",
    "    selected_edges = [(u,v) for u,v,e in multiGraph.edges(data=True) if e['type'] == property]\n",
    "    H = nx.Graph()\n",
    "    #H = nx.Graph()\n",
    "    H.add_edges_from(selected_edges)\n",
    "    return H    "
   ]
  },
  {
   "cell_type": "markdown",
   "metadata": {},
   "source": [
    "Build a subgraph H"
   ]
  },
  {
   "cell_type": "code",
   "execution_count": 46,
   "metadata": {},
   "outputs": [],
   "source": [
    "H = subgraph_by_property(multiGraph=G, property='lendmoney')"
   ]
  },
  {
   "cell_type": "code",
   "execution_count": 47,
   "metadata": {},
   "outputs": [
    {
     "data": {
      "text/plain": [
       "(838, 2125)"
      ]
     },
     "execution_count": 47,
     "metadata": {},
     "output_type": "execute_result"
    }
   ],
   "source": [
    "H.number_of_nodes(), H.number_of_edges()"
   ]
  },
  {
   "cell_type": "code",
   "execution_count": 48,
   "metadata": {},
   "outputs": [],
   "source": [
    "def vizu(G):\n",
    "    spring_pos = nx.spring_layout(G)\n",
    "    plt.figure(figsize=(10,7))\n",
    "    plt.axis(\"off\")\n",
    "    nx.draw_networkx(G,pos = spring_pos, with_labels = False, node_size=35, node_color='#1f78b4')"
   ]
  },
  {
   "cell_type": "code",
   "execution_count": 49,
   "metadata": {},
   "outputs": [
    {
     "data": {
      "image/png": "[encoded data removed]",
      "text/plain": [
       "<Figure size 1000x700 with 1 Axes>"
      ]
     },
     "metadata": {},
     "output_type": "display_data"
    }
   ],
   "source": [
    "vizu(H)"
   ]
  },
  {
   "cell_type": "markdown",
   "metadata": {},
   "source": [
    "### Some Properties"
   ]
  },
  {
   "cell_type": "code",
   "execution_count": 51,
   "metadata": {},
   "outputs": [
    {
     "name": "stdout",
     "output_type": "stream",
     "text": [
      "[(116308, 15), (108905, 15), (116303, 14), (116307, 14), (116310, 14), (116304, 13), (116311, 13), (101201, 13), (107307, 13), (107308, 13), (108906, 12), (111901, 12), (107302, 12), (107303, 12), (107304, 12), (116301, 11), (116302, 11), (116305, 11), (116306, 11), (116309, 11)]\n"
     ]
    }
   ],
   "source": [
    "# In Degree: people who are mostly trustworthy to receive money from lenders\n",
    "my_list = list(H.degree())\n",
    "my_list.sort(key = operator.itemgetter(1), reverse=True)\n",
    "print(my_list[:20])"
   ]
  },
  {
   "cell_type": "code",
   "execution_count": 52,
   "metadata": {},
   "outputs": [
    {
     "name": "stdout",
     "output_type": "stream",
     "text": [
      "[30.0, 35.0, 38.0, 35.0, 30.0, 28.0, 26.0, nan, 42.0, 31.0, 26.0, 57.0, 68.0, 50.0, 40.0, 60.0, 55.0, nan, nan, nan]\n"
     ]
    }
   ],
   "source": [
    "# Amostra de idades de quem recebe \n",
    "sample_in = [pd_vil1.loc[pd_vil1['pid'] == item[0]].age.item() for item in my_list[:20]]\n",
    "print(sample_in)"
   ]
  },
  {
   "cell_type": "code",
   "execution_count": 52,
   "metadata": {},
   "outputs": [],
   "source": [
    "#plt.hist(sample_in, bins=20)"
   ]
  },
  {
   "cell_type": "code",
   "execution_count": 53,
   "metadata": {},
   "outputs": [
    {
     "data": {
      "text/plain": [
       "45"
      ]
     },
     "execution_count": 53,
     "metadata": {},
     "output_type": "execute_result"
    }
   ],
   "source": [
    "# Number of connected components\n",
    "nx.number_connected_components(H)"
   ]
  },
  {
   "cell_type": "code",
   "execution_count": 56,
   "metadata": {},
   "outputs": [],
   "source": [
    "#plt.hist(sample_in, bins=20)"
   ]
  },
  {
   "cell_type": "markdown",
   "metadata": {},
   "source": [
    "## Quantifying the structure of the network\n",
    "\n",
    "- Degree Distribution\n",
    "- Path Length\n",
    "- Clustering coefficient\n",
    "- Connected Components"
   ]
  },
  {
   "cell_type": "code",
   "execution_count": 57,
   "metadata": {},
   "outputs": [],
   "source": [
    "def degree_scatter(H):\n",
    "    degree_sequence = [d for n, d in H.degree()]\n",
    "    \n",
    "    dist = {}\n",
    "    for d in degree_sequence:\n",
    "        if d in dist:\n",
    "            dist[d] += 1\n",
    "        else:\n",
    "            dist[d] = 1\n",
    "    x = []\n",
    "    y = []\n",
    "    for d in dist:\n",
    "        if d>0:\n",
    "            x.append(d)\n",
    "            y.append(dist[d])\n",
    "    return x,y\n",
    "    "
   ]
  },
  {
   "cell_type": "code",
   "execution_count": 58,
   "metadata": {},
   "outputs": [],
   "source": [
    "def plot_degree_scatter(x,y):\n",
    "    fig, (ax1, ax2) = plt.subplots(1, 2, figsize=(10, 4))\n",
    "\n",
    "    # First subplot: simple scatter plot\n",
    "    ax1.scatter(x, y)\n",
    "    ax1.set_title('Simple Scatter Plot')\n",
    "    ax1.set_xlabel('x')\n",
    "    ax1.set_ylabel('y')\n",
    "\n",
    "    # Second subplot: scatter plot with log-scaled axes\n",
    "    ax2.scatter(x, y)\n",
    "    ax2.set_title('Scatter Plot with Log-scaled Axes')\n",
    "    ax2.set_xscale('log')\n",
    "    ax2.set_yscale('log')\n",
    "    ax2.set_xlabel('log(x)')\n",
    "    ax2.set_ylabel('log(y)')\n",
    "\n",
    "    # Adjust layout and display the plots\n",
    "    plt.tight_layout()\n",
    "    plt.show()\n",
    "    \n",
    "def plot_scatter(x,y, title='Simple Scatter Plot'):\n",
    "    # simple scatter plot\n",
    "    plt.scatter(x, y)\n",
    "    plt.title(title)\n",
    "    plt.xlabel('x')\n",
    "    plt.ylabel('y')\n",
    "\n",
    "    plt.show()"
   ]
  },
  {
   "cell_type": "code",
   "execution_count": 59,
   "metadata": {},
   "outputs": [
    {
     "data": {
      "image/png": "[encoded data removed]",
      "text/plain": [
       "<Figure size 1000x400 with 2 Axes>"
      ]
     },
     "metadata": {},
     "output_type": "display_data"
    }
   ],
   "source": [
    "x, y = degree_scatter(H)\n",
    "plot_degree_scatter(x, y)"
   ]
  },
  {
   "cell_type": "markdown",
   "metadata": {},
   "source": [
    "## Diameter and Average Path Length"
   ]
  },
  {
   "cell_type": "code",
   "execution_count": 61,
   "metadata": {},
   "outputs": [
    {
     "data": {
      "text/plain": [
       "<generator object connected_components at 0x7fbcba29b6f0>"
      ]
     },
     "execution_count": 61,
     "metadata": {},
     "output_type": "execute_result"
    }
   ],
   "source": [
    "# Number of connected components\n",
    "nx.connected_components(H)"
   ]
  },
  {
   "cell_type": "code",
   "execution_count": 62,
   "metadata": {},
   "outputs": [],
   "source": [
    "Gcc = sorted(nx.connected_components(H), key=len, reverse=True)\n",
    "G0 = H.subgraph(Gcc[0])"
   ]
  },
  {
   "cell_type": "code",
   "execution_count": 63,
   "metadata": {},
   "outputs": [
    {
     "data": {
      "image/png": "[encoded data removed]",
      "text/plain": [
       "<Figure size 1000x700 with 1 Axes>"
      ]
     },
     "metadata": {},
     "output_type": "display_data"
    }
   ],
   "source": [
    "vizu(H.subgraph(Gcc[2]))"
   ]
  },
  {
   "cell_type": "markdown",
   "metadata": {},
   "source": [
    "### Shortest Paths"
   ]
  },
  {
   "cell_type": "code",
   "execution_count": 64,
   "metadata": {},
   "outputs": [
    {
     "data": {
      "text/plain": [
       "18"
      ]
     },
     "execution_count": 64,
     "metadata": {},
     "output_type": "execute_result"
    }
   ],
   "source": [
    "nx.diameter(G0)"
   ]
  },
  {
   "cell_type": "code",
   "execution_count": 66,
   "metadata": {},
   "outputs": [
    {
     "data": {
      "text/plain": [
       "7.1396378043469095"
      ]
     },
     "execution_count": 66,
     "metadata": {},
     "output_type": "execute_result"
    }
   ],
   "source": [
    "nx.average_shortest_path_length(G0)"
   ]
  },
  {
   "cell_type": "code",
   "execution_count": 67,
   "metadata": {},
   "outputs": [],
   "source": [
    "length = dict(nx.all_pairs_shortest_path_length(G0))"
   ]
  },
  {
   "cell_type": "code",
   "execution_count": 68,
   "metadata": {},
   "outputs": [
    {
     "data": {
      "text/plain": [
       "([1, 2, 3, 4, 5, 6, 7, 8, 9, 10, 11, 12, 13, 14, 15, 16, 17, 18],\n",
       " [3576,\n",
       "  5136,\n",
       "  15336,\n",
       "  27556,\n",
       "  48606,\n",
       "  65538,\n",
       "  75262,\n",
       "  70684,\n",
       "  53164,\n",
       "  33172,\n",
       "  16610,\n",
       "  7180,\n",
       "  3124,\n",
       "  1348,\n",
       "  524,\n",
       "  186,\n",
       "  42,\n",
       "  18])"
      ]
     },
     "execution_count": 68,
     "metadata": {},
     "output_type": "execute_result"
    }
   ],
   "source": [
    "dist = {}\n",
    "nodes = list(length.keys())\n",
    "\n",
    "for node in nodes:\n",
    "    sequence = [x for x in list(length[node].values()) if x>0]\n",
    "    for d in sequence:\n",
    "        if d in dist:\n",
    "            dist[d] += 1\n",
    "        else:\n",
    "            dist[d] = 1\n",
    "x = []\n",
    "y = []\n",
    "for d in dist:\n",
    "    if d>0:\n",
    "        x.append(d)\n",
    "        y.append(dist[d])\n",
    "x,y"
   ]
  },
  {
   "cell_type": "code",
   "execution_count": 69,
   "metadata": {},
   "outputs": [
    {
     "data": {
      "image/png": "[encoded data removed]",
      "text/plain": [
       "<Figure size 640x480 with 1 Axes>"
      ]
     },
     "metadata": {},
     "output_type": "display_data"
    }
   ],
   "source": [
    "plot_scatter(x, y, 'Shortest Paths Distribution')"
   ]
  },
  {
   "cell_type": "code",
   "execution_count": 70,
   "metadata": {},
   "outputs": [
    {
     "name": "stdout",
     "output_type": "stream",
     "text": [
      "7.1396378043469095\n"
     ]
    }
   ],
   "source": [
    "result = [a * b for a, b in zip(x, y)]\n",
    "print(sum(result)/sum(y))"
   ]
  },
  {
   "cell_type": "markdown",
   "metadata": {},
   "source": [
    "### Clustering"
   ]
  },
  {
   "cell_type": "code",
   "execution_count": 71,
   "metadata": {},
   "outputs": [
    {
     "data": {
      "text/plain": [
       "0.7756197506197511"
      ]
     },
     "execution_count": 71,
     "metadata": {},
     "output_type": "execute_result"
    }
   ],
   "source": [
    "nx.average_clustering(G0)"
   ]
  },
  {
   "cell_type": "markdown",
   "metadata": {},
   "source": [
    "<img src='clustering_coeff.png' style='width: 40%'></img>\n",
    "\n",
    "In the middle case:\n",
    "\n",
    "$k_i$ = 4 (4 friends) <br>\n",
    "$e_i$ = 3  (number of connections between friends) <br>\n",
    "Max possible number of connections = 6 <br>\n",
    "$C_i = \\dfrac{2e_i}{k_i(k_i-1)} = \\dfrac{2*3}{4*3} = \\dfrac{6}{12} = \\dfrac{1}{2}$ <br>"
   ]
  },
  {
   "cell_type": "code",
   "execution_count": null,
   "metadata": {},
   "outputs": [],
   "source": []
  },
  {
   "cell_type": "code",
   "execution_count": 72,
   "metadata": {},
   "outputs": [],
   "source": [
    "clust = {}\n",
    "nodes = list(nx.clustering(G0.to_undirected()).values())\n",
    "\n",
    "\n",
    "for d in nodes:\n",
    "    if d in clust:\n",
    "        clust[d] += 1\n",
    "    else:\n",
    "        clust[d] = 1\n",
    "x = []\n",
    "y = []\n",
    "for d in clust:\n",
    "    if d>0:\n",
    "        x.append(d)\n",
    "        y.append(clust[d])"
   ]
  },
  {
   "cell_type": "code",
   "execution_count": 73,
   "metadata": {},
   "outputs": [
    {
     "data": {
      "image/png": "[encoded data removed]",
      "text/plain": [
       "<Figure size 640x480 with 1 Axes>"
      ]
     },
     "metadata": {},
     "output_type": "display_data"
    }
   ],
   "source": [
    "plot_scatter(x, y, 'Clustering Distribution')"
   ]
  },
  {
   "cell_type": "code",
   "execution_count": 74,
   "metadata": {},
   "outputs": [
    {
     "name": "stdout",
     "output_type": "stream",
     "text": [
      "0.7852249487698403\n"
     ]
    }
   ],
   "source": [
    "result = [a * b for a, b in zip(x, y)]\n",
    "print(sum(result)/sum(y))"
   ]
  },
  {
   "cell_type": "markdown",
   "metadata": {},
   "source": [
    "It is a small world with bunch of highly connected groups (most likely members of same household/family)"
   ]
  },
  {
   "cell_type": "markdown",
   "metadata": {},
   "source": [
    "### Direction points to whom a given individual borrow money from"
   ]
  },
  {
   "cell_type": "code",
   "execution_count": 75,
   "metadata": {},
   "outputs": [],
   "source": [
    "H = subgraph_by_property(multiGraph=G, property='borrowmoney')"
   ]
  },
  {
   "cell_type": "code",
   "execution_count": 76,
   "metadata": {},
   "outputs": [
    {
     "data": {
      "text/plain": [
       "(838, 2149)"
      ]
     },
     "execution_count": 76,
     "metadata": {},
     "output_type": "execute_result"
    }
   ],
   "source": [
    "H.number_of_nodes(), H.number_of_edges()"
   ]
  },
  {
   "cell_type": "code",
   "execution_count": 77,
   "metadata": {},
   "outputs": [
    {
     "data": {
      "image/png": "[encoded data removed]",
      "text/plain": [
       "<Figure size 1000x700 with 1 Axes>"
      ]
     },
     "metadata": {},
     "output_type": "display_data"
    }
   ],
   "source": [
    "vizu(H)"
   ]
  },
  {
   "cell_type": "code",
   "execution_count": 78,
   "metadata": {},
   "outputs": [
    {
     "name": "stdout",
     "output_type": "stream",
     "text": [
      "[(117301, 19), (116307, 15), (116308, 14), (116304, 13), (116310, 13), (116311, 13), (108905, 13), (108901, 13), (107308, 13), (116301, 12), (116303, 12), (115802, 12), (108906, 12), (107307, 12), (115808, 12), (104801, 11), (116302, 11), (116305, 11), (116306, 11), (116309, 11)]\n"
     ]
    }
   ],
   "source": [
    "# In Degree: people who are mostly trustworthy to LEND\n",
    "my_list = list(H.degree())\n",
    "my_list.sort(key = operator.itemgetter(1), reverse=True)\n",
    "print(my_list[:20])"
   ]
  },
  {
   "cell_type": "code",
   "execution_count": 79,
   "metadata": {},
   "outputs": [
    {
     "name": "stdout",
     "output_type": "stream",
     "text": [
      "[75.0, 35.0, 30.0, 28.0, 30.0, 26.0, 35.0, 45.0, 31.0, 60.0, 38.0, 44.0, 26.0, 42.0, 35.0, 60.0, 55.0, nan, nan, nan]\n"
     ]
    }
   ],
   "source": [
    "# Amostra de idades de quem recebe \n",
    "sample_in = [pd_vil1.loc[pd_vil1['pid'] == item[0]].age.item() for item in my_list[:20]]\n",
    "print(sample_in)"
   ]
  },
  {
   "cell_type": "markdown",
   "metadata": {},
   "source": [
    "# Analysis of All relationships"
   ]
  },
  {
   "cell_type": "code",
   "execution_count": 80,
   "metadata": {},
   "outputs": [],
   "source": [
    "keys = [x[1] for x in sequencia]\n",
    "overall = {}\n",
    "for key in keys:\n",
    "    overall[key]=subgraph_by_property(multiGraph=G, property=key)"
   ]
  },
  {
   "cell_type": "code",
   "execution_count": 81,
   "metadata": {},
   "outputs": [
    {
     "data": {
      "text/plain": [
       "{'allVillageRelationships': <networkx.classes.graph.Graph at 0x7fbcb894a9e0>,\n",
       " 'andRelationships': <networkx.classes.graph.Graph at 0x7fbcb894a350>,\n",
       " 'borrowmoney': <networkx.classes.graph.Graph at 0x7fbcb894bee0>,\n",
       " 'giveadvice': <networkx.classes.graph.Graph at 0x7fbcb894a800>,\n",
       " 'helpdecision': <networkx.classes.graph.Graph at 0x7fbcba23cee0>,\n",
       " 'keroricecome': <networkx.classes.graph.Graph at 0x7fbcba23c910>,\n",
       " 'keroricego': <networkx.classes.graph.Graph at 0x7fbcba23dcc0>,\n",
       " 'lendmoney': <networkx.classes.graph.Graph at 0x7fbcba23ef20>,\n",
       " 'medic': <networkx.classes.graph.Graph at 0x7fbcba23d000>,\n",
       " 'nonrel': <networkx.classes.graph.Graph at 0x7fbcba23d1b0>,\n",
       " 'rel': <networkx.classes.graph.Graph at 0x7fbcba23f070>,\n",
       " 'templecompany': <networkx.classes.graph.Graph at 0x7fbcba23d990>,\n",
       " 'visitcome': <networkx.classes.graph.Graph at 0x7fbcba23ef80>,\n",
       " 'visitgo': <networkx.classes.graph.Graph at 0x7fbcba2da2c0>}"
      ]
     },
     "execution_count": 81,
     "metadata": {},
     "output_type": "execute_result"
    }
   ],
   "source": [
    "overall"
   ]
  },
  {
   "cell_type": "code",
   "execution_count": 82,
   "metadata": {},
   "outputs": [
    {
     "name": "stdout",
     "output_type": "stream",
     "text": [
      "0 allVillageRelationships\n",
      "1 andRelationships\n",
      "2 borrowmoney\n",
      "3 giveadvice\n",
      "4 helpdecision\n",
      "5 keroricecome\n",
      "6 keroricego\n",
      "7 lendmoney\n",
      "8 medic\n",
      "9 nonrel\n",
      "10 rel\n",
      "11 templecompany\n",
      "12 visitcome\n",
      "13 visitgo\n"
     ]
    }
   ],
   "source": [
    "for i, key in enumerate(list(overall.keys())):\n",
    "    print(i, key)"
   ]
  },
  {
   "cell_type": "code",
   "execution_count": 83,
   "metadata": {},
   "outputs": [
    {
     "data": {
      "text/plain": [
       "14"
      ]
     },
     "execution_count": 83,
     "metadata": {},
     "output_type": "execute_result"
    }
   ],
   "source": [
    "len([sorted(nx.connected_components(overall[key].to_undirected()), key=len, reverse=True) for key in keys])"
   ]
  },
  {
   "cell_type": "code",
   "execution_count": 84,
   "metadata": {},
   "outputs": [
    {
     "name": "stdout",
     "output_type": "stream",
     "text": [
      "Village 1      allVillageRelationships    andRelationships    borrowmoney    giveadvice    helpdecision    keroricecome    keroricego    lendmoney    medic    nonrel      rel    templecompany    visitcome    visitgo\n",
      "-----------  -------------------------  ------------------  -------------  ------------  --------------  --------------  ------------  -----------  -------  --------  -------  ---------------  -----------  ---------\n",
      "nodes                           841.00              834.00         838.00        838.00          837.00          836.00        837.00       838.00   836.00    838.00   838.00           835.00       837.00     837.00\n",
      "edges                          3405.00             1849.00        2149.00       2010.00         2067.00         2219.00       2213.00      2125.00  2045.00   2296.00  2288.00          1872.00      2216.00    2252.00\n",
      "conn_comp                         6.00              173.00          40.00         65.00           64.00           41.00         40.00        45.00    75.00     28.00    37.00           153.00        37.00      34.00\n",
      "-----------  -------------------------  ------------------  -------------  ------------  --------------  --------------  ------------  -----------  -------  --------  -------  ---------------  -----------  ---------\n",
      "diam                              8.00                1.00          13.00         19.00           17.00           19.00         14.00        18.00    16.00     13.00    13.00             7.00        12.00      15.00\n",
      "shrt_path                         3.98                1.00           6.60          7.96            6.47            6.76          6.58         7.14     7.29      5.66     6.31             3.97         6.05       5.85\n",
      "clust                             0.63                1.00           0.77          0.82            0.82            0.75          0.75         0.78     0.81      0.73     0.77             0.92         0.74       0.74\n"
     ]
    }
   ],
   "source": [
    "nodes = [overall[key].number_of_nodes() for key in keys]\n",
    "edges = [overall[key].number_of_edges() for key in keys]\n",
    "connected_components = [sorted(nx.connected_components(overall[key]), key=len, reverse=True) for key in keys]\n",
    "no_connected = [len(con) for con in connected_components]\n",
    "\n",
    "\n",
    "clust = []\n",
    "shrt_path = []\n",
    "diam = []\n",
    "\n",
    "# Now pick the largest connected component\n",
    "for i, key in enumerate(list(overall.keys())):\n",
    "    connec_components = sorted(nx.connected_components(overall[key]), key=len, reverse=True)\n",
    "    G0 = overall[key].subgraph(connec_components[0])\n",
    "    clust.append(nx.average_clustering(G0))\n",
    "    shrt_path.append(nx.average_shortest_path_length(G0))\n",
    "    diam.append(nx.diameter(G0))  \n",
    "\n",
    "nodes.insert(0,'nodes')\n",
    "edges.insert(0,'edges')\n",
    "no_connected.insert(0,'conn_comp ')\n",
    "clust.insert(0,'clust')\n",
    "shrt_path.insert(0,'shrt_path')\n",
    "diam.insert(0,'diam')\n",
    "\n",
    "table=[nodes,edges, no_connected, SEPARATING_LINE, diam, shrt_path, clust]\n",
    "print(tabulate(table,headers=['Village 1'] + keys, floatfmt=\".2f\"))"
   ]
  },
  {
   "cell_type": "code",
   "execution_count": 85,
   "metadata": {},
   "outputs": [
    {
     "data": {
      "text/plain": [
       "[{100101, 100102, 100103, 100104},\n",
       " {102901,\n",
       "  102902,\n",
       "  102903,\n",
       "  103101,\n",
       "  103102,\n",
       "  103103,\n",
       "  103104,\n",
       "  103105,\n",
       "  103106,\n",
       "  103201,\n",
       "  103202,\n",
       "  103203,\n",
       "  103204,\n",
       "  103205,\n",
       "  103301,\n",
       "  103302,\n",
       "  103303,\n",
       "  103304,\n",
       "  103305,\n",
       "  103401,\n",
       "  103402,\n",
       "  103403,\n",
       "  103404,\n",
       "  103501,\n",
       "  103502,\n",
       "  103503,\n",
       "  103504,\n",
       "  103701,\n",
       "  103702,\n",
       "  103703,\n",
       "  103704,\n",
       "  103705,\n",
       "  103901,\n",
       "  111301,\n",
       "  111302},\n",
       " {100601,\n",
       "  100602,\n",
       "  100603,\n",
       "  100604,\n",
       "  101901,\n",
       "  101902,\n",
       "  101903,\n",
       "  101904,\n",
       "  101905,\n",
       "  102001,\n",
       "  102002,\n",
       "  102003,\n",
       "  102004,\n",
       "  102601,\n",
       "  102602,\n",
       "  102603,\n",
       "  102604,\n",
       "  104401,\n",
       "  104402,\n",
       "  104403,\n",
       "  104404,\n",
       "  104405},\n",
       " {104101,\n",
       "  104102,\n",
       "  104103,\n",
       "  104104,\n",
       "  104201,\n",
       "  104202,\n",
       "  104203,\n",
       "  104204,\n",
       "  104205,\n",
       "  104206,\n",
       "  104207,\n",
       "  104301,\n",
       "  104302,\n",
       "  104303},\n",
       " {100301, 100302, 100303, 100304}]"
      ]
     },
     "execution_count": 85,
     "metadata": {},
     "output_type": "execute_result"
    }
   ],
   "source": [
    "# Looks like it cluster members of household\n",
    "(nx.community.louvain_communities(overall['lendmoney']))[:5]"
   ]
  },
  {
   "cell_type": "code",
   "execution_count": null,
   "metadata": {},
   "outputs": [],
   "source": []
  },
  {
   "cell_type": "code",
   "execution_count": 93,
   "metadata": {},
   "outputs": [
    {
     "name": "stdout",
     "output_type": "stream",
     "text": [
      "[(116308, 15), (108905, 15), (116303, 14), (116307, 14), (116310, 14), (116304, 13), (116311, 13), (101201, 13), (107307, 13), (107308, 13), (108906, 12), (111901, 12), (107302, 12), (107303, 12), (107304, 12), (116301, 11), (116302, 11), (116305, 11), (116306, 11), (116309, 11)]\n"
     ]
    }
   ],
   "source": [
    "H = subgraph_by_property(multiGraph=G, property='lendmoney')\n",
    "# In Degree: people who are mostly trustworthy to receive money from lenders\n",
    "my_list = list(H.degree())\n",
    "my_list.sort(key = operator.itemgetter(1), reverse=True)\n",
    "print(my_list[:20])"
   ]
  },
  {
   "cell_type": "code",
   "execution_count": null,
   "metadata": {},
   "outputs": [],
   "source": []
  },
  {
   "cell_type": "code",
   "execution_count": 92,
   "metadata": {},
   "outputs": [
    {
     "data": {
      "text/plain": [
       "[116301,\n",
       " 116303,\n",
       " 116307,\n",
       " 116302,\n",
       " 116304,\n",
       " 107902,\n",
       " 108602,\n",
       " 110502,\n",
       " 111702,\n",
       " 116305,\n",
       " 116306,\n",
       " 116309,\n",
       " 116310,\n",
       " 116311,\n",
       " 116312]"
      ]
     },
     "execution_count": 92,
     "metadata": {},
     "output_type": "execute_result"
    }
   ],
   "source": [
    "list(nx.neighbors(H, 116308))"
   ]
  },
  {
   "cell_type": "code",
   "execution_count": 94,
   "metadata": {},
   "outputs": [
    {
     "name": "stdout",
     "output_type": "stream",
     "text": [
      "[30.0, 35.0, 38.0, 35.0, 30.0, 28.0, 26.0, nan, 42.0, 31.0, 26.0, 57.0, 68.0, 50.0, 40.0, 60.0, 55.0, nan, nan, nan]\n"
     ]
    }
   ],
   "source": [
    "# Amostra de idades de quem recebe \n",
    "sample_in = [pd_vil1.loc[pd_vil1['pid'] == item[0]].age.item() for item in my_list[:20]]\n",
    "print(sample_in)"
   ]
  },
  {
   "cell_type": "code",
   "execution_count": 110,
   "metadata": {},
   "outputs": [
    {
     "data": {
      "text/plain": [
       "((1089.0, 35.0, 'Other'),\n",
       " [(108803, 1088.0, 'Other', 30.0),\n",
       "  (108901, 1089.0, 'Head of Household', 45.0),\n",
       "  (108902, 1089.0, 'Spouse of Head of Household', 35.0),\n",
       "  (108903, nan, nan, nan),\n",
       "  (108904, nan, nan, nan),\n",
       "  (108906, 1089.0, 'Other', 26.0),\n",
       "  (108907, nan, nan, nan),\n",
       "  (108908, nan, nan, nan),\n",
       "  (108909, nan, nan, nan),\n",
       "  (108910, nan, nan, nan),\n",
       "  (109202, 1092.0, 'Spouse of Head of Household', 45.0),\n",
       "  (109505, 1095.0, 'Other', 70.0),\n",
       "  (111901, 1119.0, 'Head of Household', 57.0),\n",
       "  (116303, 1163.0, 'Other', 38.0),\n",
       "  (117901, nan, nan, nan)])"
      ]
     },
     "execution_count": 110,
     "metadata": {},
     "output_type": "execute_result"
    }
   ],
   "source": [
    "nod = 108905\n",
    "(pd_vil1.loc[pd_vil1['pid'] == nod].hhid.item(), pd_vil1.loc[pd_vil1['pid'] == nod].age.item(), pd_vil1.loc[pd_vil1['pid'] == nod].resp_status.item()),[(x, pd_vil1.loc[pd_vil1['pid'] == x].hhid.item(), pd_vil1.loc[pd_vil1['pid'] == x].resp_status.item(), pd_vil1.loc[pd_vil1['pid'] == x].age.item()) for x in list(nx.neighbors(H, nod))]"
   ]
  },
  {
   "cell_type": "code",
   "execution_count": 88,
   "metadata": {},
   "outputs": [
    {
     "data": {
      "text/plain": [
       "array([[0, 1, 1, ..., 0, 0, 0],\n",
       "       [1, 0, 1, ..., 0, 0, 0],\n",
       "       [1, 1, 0, ..., 0, 0, 0],\n",
       "       ...,\n",
       "       [0, 0, 0, ..., 0, 0, 0],\n",
       "       [0, 0, 0, ..., 0, 0, 1],\n",
       "       [0, 0, 0, ..., 0, 1, 0]])"
      ]
     },
     "execution_count": 88,
     "metadata": {},
     "output_type": "execute_result"
    }
   ],
   "source": [
    "nx.adjacency_matrix(H).todense()"
   ]
  },
  {
   "cell_type": "code",
   "execution_count": null,
   "metadata": {},
   "outputs": [],
   "source": []
  }
 ],
 "metadata": {
  "kernelspec": {
   "display_name": "Python 3 (ipykernel)",
   "language": "python",
   "name": "python3"
  },
  "language_info": {
   "codemirror_mode": {
    "name": "ipython",
    "version": 3
   },
   "file_extension": ".py",
   "mimetype": "text/x-python",
   "name": "python",
   "nbconvert_exporter": "python",
   "pygments_lexer": "ipython3",
   "version": "3.10.8"
  }
 },
 "nbformat": 4,
 "nbformat_minor": 4
}
